{
 "cells": [
  {
   "cell_type": "markdown",
   "id": "d0903376",
   "metadata": {},
   "source": [
    "# MLOps Assignment 4: Model Monitoring"
   ]
  },
  {
   "cell_type": "markdown",
   "id": "cdbb2cfa",
   "metadata": {},
   "source": [
    "Anusha Bhat\n",
    "August 7, 2024"
   ]
  },
  {
   "cell_type": "markdown",
   "id": "e0af75fe",
   "metadata": {},
   "source": [
    "## Libraries"
   ]
  },
  {
   "cell_type": "code",
   "execution_count": 1,
   "id": "92a3baf4",
   "metadata": {},
   "outputs": [],
   "source": [
    "import pandas as pd\n",
    "import numpy as np\n",
    "import matplotlib.pyplot as plt\n",
    "import seaborn as sns\n",
    "from sklearn.model_selection import train_test_split\n",
    "from sklearn.preprocessing import OneHotEncoder\n",
    "from xgboost import XGBRegressor\n",
    "from sklearn.metrics import mean_squared_error\n",
    "from evidently import Dataset, DataDefinition\n",
    "from evidently import Report\n",
    "from evidently.presets import DataDriftPreset, RegressionPreset\n",
    "from evidently.ui.workspace import CloudWorkspace\n",
    "import os\n",
    "from dotenv import load_dotenv"
   ]
  },
  {
   "cell_type": "markdown",
   "id": "e6ab67c0",
   "metadata": {},
   "source": [
    "## Data Ingestion"
   ]
  },
  {
   "cell_type": "code",
   "execution_count": 3,
   "id": "d6e34db9",
   "metadata": {},
   "outputs": [],
   "source": [
    "df = pd.read_csv('data/cancer_reg.csv', encoding = 'utf-8', encoding_errors = 'ignore')"
   ]
  },
  {
   "cell_type": "code",
   "execution_count": 4,
   "id": "61724fdd",
   "metadata": {},
   "outputs": [
    {
     "data": {
      "text/html": [
       "<div>\n",
       "<style scoped>\n",
       "    .dataframe tbody tr th:only-of-type {\n",
       "        vertical-align: middle;\n",
       "    }\n",
       "\n",
       "    .dataframe tbody tr th {\n",
       "        vertical-align: top;\n",
       "    }\n",
       "\n",
       "    .dataframe thead th {\n",
       "        text-align: right;\n",
       "    }\n",
       "</style>\n",
       "<table border=\"1\" class=\"dataframe\">\n",
       "  <thead>\n",
       "    <tr style=\"text-align: right;\">\n",
       "      <th></th>\n",
       "      <th>avgAnnCount</th>\n",
       "      <th>avgDeathsPerYear</th>\n",
       "      <th>TARGET_deathRate</th>\n",
       "      <th>incidenceRate</th>\n",
       "      <th>medIncome</th>\n",
       "      <th>popEst2015</th>\n",
       "      <th>povertyPercent</th>\n",
       "      <th>studyPerCap</th>\n",
       "      <th>binnedInc</th>\n",
       "      <th>MedianAge</th>\n",
       "      <th>...</th>\n",
       "      <th>PctPrivateCoverageAlone</th>\n",
       "      <th>PctEmpPrivCoverage</th>\n",
       "      <th>PctPublicCoverage</th>\n",
       "      <th>PctPublicCoverageAlone</th>\n",
       "      <th>PctWhite</th>\n",
       "      <th>PctBlack</th>\n",
       "      <th>PctAsian</th>\n",
       "      <th>PctOtherRace</th>\n",
       "      <th>PctMarriedHouseholds</th>\n",
       "      <th>BirthRate</th>\n",
       "    </tr>\n",
       "  </thead>\n",
       "  <tbody>\n",
       "    <tr>\n",
       "      <th>0</th>\n",
       "      <td>1397.0</td>\n",
       "      <td>469</td>\n",
       "      <td>164.9</td>\n",
       "      <td>489.8</td>\n",
       "      <td>61898</td>\n",
       "      <td>260131</td>\n",
       "      <td>11.2</td>\n",
       "      <td>499.748204</td>\n",
       "      <td>(61494.5, 125635]</td>\n",
       "      <td>39.3</td>\n",
       "      <td>...</td>\n",
       "      <td>NaN</td>\n",
       "      <td>41.6</td>\n",
       "      <td>32.9</td>\n",
       "      <td>14.0</td>\n",
       "      <td>81.780529</td>\n",
       "      <td>2.594728</td>\n",
       "      <td>4.821857</td>\n",
       "      <td>1.843479</td>\n",
       "      <td>52.856076</td>\n",
       "      <td>6.118831</td>\n",
       "    </tr>\n",
       "    <tr>\n",
       "      <th>1</th>\n",
       "      <td>173.0</td>\n",
       "      <td>70</td>\n",
       "      <td>161.3</td>\n",
       "      <td>411.6</td>\n",
       "      <td>48127</td>\n",
       "      <td>43269</td>\n",
       "      <td>18.6</td>\n",
       "      <td>23.111234</td>\n",
       "      <td>(48021.6, 51046.4]</td>\n",
       "      <td>33.0</td>\n",
       "      <td>...</td>\n",
       "      <td>53.8</td>\n",
       "      <td>43.6</td>\n",
       "      <td>31.1</td>\n",
       "      <td>15.3</td>\n",
       "      <td>89.228509</td>\n",
       "      <td>0.969102</td>\n",
       "      <td>2.246233</td>\n",
       "      <td>3.741352</td>\n",
       "      <td>45.372500</td>\n",
       "      <td>4.333096</td>\n",
       "    </tr>\n",
       "    <tr>\n",
       "      <th>2</th>\n",
       "      <td>102.0</td>\n",
       "      <td>50</td>\n",
       "      <td>174.7</td>\n",
       "      <td>349.7</td>\n",
       "      <td>49348</td>\n",
       "      <td>21026</td>\n",
       "      <td>14.6</td>\n",
       "      <td>47.560164</td>\n",
       "      <td>(48021.6, 51046.4]</td>\n",
       "      <td>45.0</td>\n",
       "      <td>...</td>\n",
       "      <td>43.5</td>\n",
       "      <td>34.9</td>\n",
       "      <td>42.1</td>\n",
       "      <td>21.1</td>\n",
       "      <td>90.922190</td>\n",
       "      <td>0.739673</td>\n",
       "      <td>0.465898</td>\n",
       "      <td>2.747358</td>\n",
       "      <td>54.444868</td>\n",
       "      <td>3.729488</td>\n",
       "    </tr>\n",
       "    <tr>\n",
       "      <th>3</th>\n",
       "      <td>427.0</td>\n",
       "      <td>202</td>\n",
       "      <td>194.8</td>\n",
       "      <td>430.4</td>\n",
       "      <td>44243</td>\n",
       "      <td>75882</td>\n",
       "      <td>17.1</td>\n",
       "      <td>342.637253</td>\n",
       "      <td>(42724.4, 45201]</td>\n",
       "      <td>42.8</td>\n",
       "      <td>...</td>\n",
       "      <td>40.3</td>\n",
       "      <td>35.0</td>\n",
       "      <td>45.3</td>\n",
       "      <td>25.0</td>\n",
       "      <td>91.744686</td>\n",
       "      <td>0.782626</td>\n",
       "      <td>1.161359</td>\n",
       "      <td>1.362643</td>\n",
       "      <td>51.021514</td>\n",
       "      <td>4.603841</td>\n",
       "    </tr>\n",
       "    <tr>\n",
       "      <th>4</th>\n",
       "      <td>57.0</td>\n",
       "      <td>26</td>\n",
       "      <td>144.4</td>\n",
       "      <td>350.1</td>\n",
       "      <td>49955</td>\n",
       "      <td>10321</td>\n",
       "      <td>12.5</td>\n",
       "      <td>0.000000</td>\n",
       "      <td>(48021.6, 51046.4]</td>\n",
       "      <td>48.3</td>\n",
       "      <td>...</td>\n",
       "      <td>43.9</td>\n",
       "      <td>35.1</td>\n",
       "      <td>44.0</td>\n",
       "      <td>22.7</td>\n",
       "      <td>94.104024</td>\n",
       "      <td>0.270192</td>\n",
       "      <td>0.665830</td>\n",
       "      <td>0.492135</td>\n",
       "      <td>54.027460</td>\n",
       "      <td>6.796657</td>\n",
       "    </tr>\n",
       "  </tbody>\n",
       "</table>\n",
       "<p>5 rows × 34 columns</p>\n",
       "</div>"
      ],
      "text/plain": [
       "   avgAnnCount  avgDeathsPerYear  TARGET_deathRate  incidenceRate  medIncome  \\\n",
       "0       1397.0               469             164.9          489.8      61898   \n",
       "1        173.0                70             161.3          411.6      48127   \n",
       "2        102.0                50             174.7          349.7      49348   \n",
       "3        427.0               202             194.8          430.4      44243   \n",
       "4         57.0                26             144.4          350.1      49955   \n",
       "\n",
       "   popEst2015  povertyPercent  studyPerCap           binnedInc  MedianAge  \\\n",
       "0      260131            11.2   499.748204   (61494.5, 125635]       39.3   \n",
       "1       43269            18.6    23.111234  (48021.6, 51046.4]       33.0   \n",
       "2       21026            14.6    47.560164  (48021.6, 51046.4]       45.0   \n",
       "3       75882            17.1   342.637253    (42724.4, 45201]       42.8   \n",
       "4       10321            12.5     0.000000  (48021.6, 51046.4]       48.3   \n",
       "\n",
       "   ...  PctPrivateCoverageAlone  PctEmpPrivCoverage PctPublicCoverage  \\\n",
       "0  ...                      NaN                41.6              32.9   \n",
       "1  ...                     53.8                43.6              31.1   \n",
       "2  ...                     43.5                34.9              42.1   \n",
       "3  ...                     40.3                35.0              45.3   \n",
       "4  ...                     43.9                35.1              44.0   \n",
       "\n",
       "   PctPublicCoverageAlone   PctWhite  PctBlack  PctAsian  PctOtherRace  \\\n",
       "0                    14.0  81.780529  2.594728  4.821857      1.843479   \n",
       "1                    15.3  89.228509  0.969102  2.246233      3.741352   \n",
       "2                    21.1  90.922190  0.739673  0.465898      2.747358   \n",
       "3                    25.0  91.744686  0.782626  1.161359      1.362643   \n",
       "4                    22.7  94.104024  0.270192  0.665830      0.492135   \n",
       "\n",
       "   PctMarriedHouseholds  BirthRate  \n",
       "0             52.856076   6.118831  \n",
       "1             45.372500   4.333096  \n",
       "2             54.444868   3.729488  \n",
       "3             51.021514   4.603841  \n",
       "4             54.027460   6.796657  \n",
       "\n",
       "[5 rows x 34 columns]"
      ]
     },
     "execution_count": 4,
     "metadata": {},
     "output_type": "execute_result"
    }
   ],
   "source": [
    "df.head()"
   ]
  },
  {
   "cell_type": "code",
   "execution_count": 5,
   "id": "7092cb65",
   "metadata": {},
   "outputs": [
    {
     "data": {
      "text/plain": [
       "avgAnnCount                float64\n",
       "avgDeathsPerYear             int64\n",
       "TARGET_deathRate           float64\n",
       "incidenceRate              float64\n",
       "medIncome                    int64\n",
       "popEst2015                   int64\n",
       "povertyPercent             float64\n",
       "studyPerCap                float64\n",
       "binnedInc                   object\n",
       "MedianAge                  float64\n",
       "MedianAgeMale              float64\n",
       "MedianAgeFemale            float64\n",
       "Geography                   object\n",
       "AvgHouseholdSize           float64\n",
       "PercentMarried             float64\n",
       "PctNoHS18_24               float64\n",
       "PctHS18_24                 float64\n",
       "PctSomeCol18_24            float64\n",
       "PctBachDeg18_24            float64\n",
       "PctHS25_Over               float64\n",
       "PctBachDeg25_Over          float64\n",
       "PctEmployed16_Over         float64\n",
       "PctUnemployed16_Over       float64\n",
       "PctPrivateCoverage         float64\n",
       "PctPrivateCoverageAlone    float64\n",
       "PctEmpPrivCoverage         float64\n",
       "PctPublicCoverage          float64\n",
       "PctPublicCoverageAlone     float64\n",
       "PctWhite                   float64\n",
       "PctBlack                   float64\n",
       "PctAsian                   float64\n",
       "PctOtherRace               float64\n",
       "PctMarriedHouseholds       float64\n",
       "BirthRate                  float64\n",
       "dtype: object"
      ]
     },
     "execution_count": 5,
     "metadata": {},
     "output_type": "execute_result"
    }
   ],
   "source": [
    "df.dtypes"
   ]
  },
  {
   "cell_type": "code",
   "execution_count": 6,
   "id": "cfef58d0",
   "metadata": {},
   "outputs": [],
   "source": [
    "# drop columns that contain duplicate information\n",
    "df_clean = df.drop(columns = [\"avgAnnCount\", \"binnedInc\", \"MedianAgeMale\", \"MedianAgeFemale\", \"PctMarriedHouseholds\"])"
   ]
  },
  {
   "cell_type": "code",
   "execution_count": 7,
   "id": "8e289b8c",
   "metadata": {},
   "outputs": [],
   "source": [
    "# dropping the unique identifier\n",
    "df_clean = df_clean.drop(columns = ['Geography'])"
   ]
  },
  {
   "cell_type": "code",
   "execution_count": 8,
   "id": "0c32906c",
   "metadata": {},
   "outputs": [],
   "source": [
    "# drop annual deaths since we want to predict death rate \n",
    "df_clean = df_clean.drop(columns = [\"avgDeathsPerYear\"])"
   ]
  },
  {
   "cell_type": "code",
   "execution_count": 9,
   "id": "13c89cee",
   "metadata": {},
   "outputs": [
    {
     "data": {
      "text/plain": [
       "TARGET_deathRate              0\n",
       "incidenceRate                 0\n",
       "medIncome                     0\n",
       "popEst2015                    0\n",
       "povertyPercent                0\n",
       "studyPerCap                   0\n",
       "MedianAge                     0\n",
       "AvgHouseholdSize              0\n",
       "PercentMarried                0\n",
       "PctNoHS18_24                  0\n",
       "PctHS18_24                    0\n",
       "PctSomeCol18_24            2285\n",
       "PctBachDeg18_24               0\n",
       "PctHS25_Over                  0\n",
       "PctBachDeg25_Over             0\n",
       "PctEmployed16_Over          152\n",
       "PctUnemployed16_Over          0\n",
       "PctPrivateCoverage            0\n",
       "PctPrivateCoverageAlone     609\n",
       "PctEmpPrivCoverage            0\n",
       "PctPublicCoverage             0\n",
       "PctPublicCoverageAlone        0\n",
       "PctWhite                      0\n",
       "PctBlack                      0\n",
       "PctAsian                      0\n",
       "PctOtherRace                  0\n",
       "BirthRate                     0\n",
       "dtype: int64"
      ]
     },
     "execution_count": 9,
     "metadata": {},
     "output_type": "execute_result"
    }
   ],
   "source": [
    "# check NAs \n",
    "df_clean.isna().sum()"
   ]
  },
  {
   "cell_type": "code",
   "execution_count": 10,
   "id": "a55af2ba",
   "metadata": {},
   "outputs": [],
   "source": [
    "# median imputation for missing values \n",
    "cols_with_nans = ['PctSomeCol18_24', 'PctEmployed16_Over', 'PctPrivateCoverageAlone']\n",
    "\n",
    "for col in cols_with_nans:\n",
    "    median_val = df_clean[col].median()\n",
    "    df_clean[col] = df_clean[col].fillna(median_val)"
   ]
  },
  {
   "cell_type": "code",
   "execution_count": 11,
   "id": "552ee681",
   "metadata": {},
   "outputs": [
    {
     "data": {
      "text/plain": [
       "TARGET_deathRate           0\n",
       "incidenceRate              0\n",
       "medIncome                  0\n",
       "popEst2015                 0\n",
       "povertyPercent             0\n",
       "studyPerCap                0\n",
       "MedianAge                  0\n",
       "AvgHouseholdSize           0\n",
       "PercentMarried             0\n",
       "PctNoHS18_24               0\n",
       "PctHS18_24                 0\n",
       "PctSomeCol18_24            0\n",
       "PctBachDeg18_24            0\n",
       "PctHS25_Over               0\n",
       "PctBachDeg25_Over          0\n",
       "PctEmployed16_Over         0\n",
       "PctUnemployed16_Over       0\n",
       "PctPrivateCoverage         0\n",
       "PctPrivateCoverageAlone    0\n",
       "PctEmpPrivCoverage         0\n",
       "PctPublicCoverage          0\n",
       "PctPublicCoverageAlone     0\n",
       "PctWhite                   0\n",
       "PctBlack                   0\n",
       "PctAsian                   0\n",
       "PctOtherRace               0\n",
       "BirthRate                  0\n",
       "dtype: int64"
      ]
     },
     "execution_count": 11,
     "metadata": {},
     "output_type": "execute_result"
    }
   ],
   "source": [
    "# check imputation worked\n",
    "df_clean.isna().sum()"
   ]
  },
  {
   "cell_type": "code",
   "execution_count": 12,
   "id": "b6064866",
   "metadata": {},
   "outputs": [],
   "source": [
    "# combine PCT cols into new cols of max val category --> reduce multicolinearity \n",
    "\n",
    "# PCT columns with their categories \n",
    "groups = {\n",
    "    'Edu18_24': ['PctNoHS18_24', 'PctHS18_24', 'PctSomeCol18_24', 'PctBachDeg18_24'],\n",
    "    'Edu25_Over': ['PctHS25_Over', 'PctBachDeg25_Over'],\n",
    "    'Race': ['PctWhite', 'PctBlack', 'PctAsian', 'PctOtherRace'],\n",
    "    'HealthCoverage': ['PctPrivateCoverage', 'PctPrivateCoverageAlone', 'PctEmpPrivCoverage', 'PctPublicCoverage', 'PctPublicCoverageAlone'],\n",
    "    'Employment': ['PctEmployed16_Over', 'PctUnemployed16_Over']\n",
    "}\n",
    "\n",
    "# cleaning category names \n",
    "def clean_cat_name(col_name):\n",
    "    return col_name.replace('Pct', '').replace('18_24', '').replace('25_Over', '').replace('16_Over', '')\n",
    "\n",
    "# loop through groups and create max value and category columns\n",
    "for group, cols in groups.items():\n",
    "    df_clean[f'{group}_MaxCat'] = df_clean[cols].idxmax(axis = 1).apply(clean_cat_name)\n",
    "    df_clean.drop(columns = cols, inplace = True)"
   ]
  },
  {
   "cell_type": "code",
   "execution_count": 13,
   "id": "e8ac0130",
   "metadata": {},
   "outputs": [
    {
     "data": {
      "text/plain": [
       "TARGET_deathRate         float64\n",
       "incidenceRate            float64\n",
       "medIncome                  int64\n",
       "popEst2015                 int64\n",
       "povertyPercent           float64\n",
       "studyPerCap              float64\n",
       "MedianAge                float64\n",
       "AvgHouseholdSize         float64\n",
       "PercentMarried           float64\n",
       "BirthRate                float64\n",
       "Edu18_24_MaxCat           object\n",
       "Edu25_Over_MaxCat         object\n",
       "Race_MaxCat               object\n",
       "HealthCoverage_MaxCat     object\n",
       "Employment_MaxCat         object\n",
       "dtype: object"
      ]
     },
     "execution_count": 13,
     "metadata": {},
     "output_type": "execute_result"
    }
   ],
   "source": [
    "df_clean.dtypes"
   ]
  },
  {
   "cell_type": "code",
   "execution_count": 14,
   "id": "d9466e07",
   "metadata": {},
   "outputs": [
    {
     "data": {
      "text/html": [
       "<div>\n",
       "<style scoped>\n",
       "    .dataframe tbody tr th:only-of-type {\n",
       "        vertical-align: middle;\n",
       "    }\n",
       "\n",
       "    .dataframe tbody tr th {\n",
       "        vertical-align: top;\n",
       "    }\n",
       "\n",
       "    .dataframe thead th {\n",
       "        text-align: right;\n",
       "    }\n",
       "</style>\n",
       "<table border=\"1\" class=\"dataframe\">\n",
       "  <thead>\n",
       "    <tr style=\"text-align: right;\">\n",
       "      <th></th>\n",
       "      <th>TARGET_deathRate</th>\n",
       "      <th>incidenceRate</th>\n",
       "      <th>medIncome</th>\n",
       "      <th>popEst2015</th>\n",
       "      <th>povertyPercent</th>\n",
       "      <th>studyPerCap</th>\n",
       "      <th>MedianAge</th>\n",
       "      <th>AvgHouseholdSize</th>\n",
       "      <th>PercentMarried</th>\n",
       "      <th>BirthRate</th>\n",
       "      <th>Edu18_24_MaxCat</th>\n",
       "      <th>Edu25_Over_MaxCat</th>\n",
       "      <th>Race_MaxCat</th>\n",
       "      <th>HealthCoverage_MaxCat</th>\n",
       "      <th>Employment_MaxCat</th>\n",
       "    </tr>\n",
       "  </thead>\n",
       "  <tbody>\n",
       "    <tr>\n",
       "      <th>0</th>\n",
       "      <td>164.9</td>\n",
       "      <td>489.8</td>\n",
       "      <td>61898</td>\n",
       "      <td>260131</td>\n",
       "      <td>11.2</td>\n",
       "      <td>499.748204</td>\n",
       "      <td>39.3</td>\n",
       "      <td>2.54</td>\n",
       "      <td>52.5</td>\n",
       "      <td>6.118831</td>\n",
       "      <td>SomeCol</td>\n",
       "      <td>HS</td>\n",
       "      <td>White</td>\n",
       "      <td>PrivateCoverage</td>\n",
       "      <td>Employed</td>\n",
       "    </tr>\n",
       "    <tr>\n",
       "      <th>1</th>\n",
       "      <td>161.3</td>\n",
       "      <td>411.6</td>\n",
       "      <td>48127</td>\n",
       "      <td>43269</td>\n",
       "      <td>18.6</td>\n",
       "      <td>23.111234</td>\n",
       "      <td>33.0</td>\n",
       "      <td>2.34</td>\n",
       "      <td>44.5</td>\n",
       "      <td>4.333096</td>\n",
       "      <td>SomeCol</td>\n",
       "      <td>HS</td>\n",
       "      <td>White</td>\n",
       "      <td>PrivateCoverage</td>\n",
       "      <td>Employed</td>\n",
       "    </tr>\n",
       "    <tr>\n",
       "      <th>2</th>\n",
       "      <td>174.7</td>\n",
       "      <td>349.7</td>\n",
       "      <td>49348</td>\n",
       "      <td>21026</td>\n",
       "      <td>14.6</td>\n",
       "      <td>47.560164</td>\n",
       "      <td>45.0</td>\n",
       "      <td>2.62</td>\n",
       "      <td>54.2</td>\n",
       "      <td>3.729488</td>\n",
       "      <td>SomeCol</td>\n",
       "      <td>HS</td>\n",
       "      <td>White</td>\n",
       "      <td>PrivateCoverage</td>\n",
       "      <td>Employed</td>\n",
       "    </tr>\n",
       "    <tr>\n",
       "      <th>3</th>\n",
       "      <td>194.8</td>\n",
       "      <td>430.4</td>\n",
       "      <td>44243</td>\n",
       "      <td>75882</td>\n",
       "      <td>17.1</td>\n",
       "      <td>342.637253</td>\n",
       "      <td>42.8</td>\n",
       "      <td>2.52</td>\n",
       "      <td>52.7</td>\n",
       "      <td>4.603841</td>\n",
       "      <td>HS</td>\n",
       "      <td>HS</td>\n",
       "      <td>White</td>\n",
       "      <td>PrivateCoverage</td>\n",
       "      <td>Employed</td>\n",
       "    </tr>\n",
       "    <tr>\n",
       "      <th>4</th>\n",
       "      <td>144.4</td>\n",
       "      <td>350.1</td>\n",
       "      <td>49955</td>\n",
       "      <td>10321</td>\n",
       "      <td>12.5</td>\n",
       "      <td>0.000000</td>\n",
       "      <td>48.3</td>\n",
       "      <td>2.34</td>\n",
       "      <td>57.8</td>\n",
       "      <td>6.796657</td>\n",
       "      <td>HS</td>\n",
       "      <td>HS</td>\n",
       "      <td>White</td>\n",
       "      <td>PrivateCoverage</td>\n",
       "      <td>Employed</td>\n",
       "    </tr>\n",
       "  </tbody>\n",
       "</table>\n",
       "</div>"
      ],
      "text/plain": [
       "   TARGET_deathRate  incidenceRate  medIncome  popEst2015  povertyPercent  \\\n",
       "0             164.9          489.8      61898      260131            11.2   \n",
       "1             161.3          411.6      48127       43269            18.6   \n",
       "2             174.7          349.7      49348       21026            14.6   \n",
       "3             194.8          430.4      44243       75882            17.1   \n",
       "4             144.4          350.1      49955       10321            12.5   \n",
       "\n",
       "   studyPerCap  MedianAge  AvgHouseholdSize  PercentMarried  BirthRate  \\\n",
       "0   499.748204       39.3              2.54            52.5   6.118831   \n",
       "1    23.111234       33.0              2.34            44.5   4.333096   \n",
       "2    47.560164       45.0              2.62            54.2   3.729488   \n",
       "3   342.637253       42.8              2.52            52.7   4.603841   \n",
       "4     0.000000       48.3              2.34            57.8   6.796657   \n",
       "\n",
       "  Edu18_24_MaxCat Edu25_Over_MaxCat Race_MaxCat HealthCoverage_MaxCat  \\\n",
       "0         SomeCol                HS       White       PrivateCoverage   \n",
       "1         SomeCol                HS       White       PrivateCoverage   \n",
       "2         SomeCol                HS       White       PrivateCoverage   \n",
       "3              HS                HS       White       PrivateCoverage   \n",
       "4              HS                HS       White       PrivateCoverage   \n",
       "\n",
       "  Employment_MaxCat  \n",
       "0          Employed  \n",
       "1          Employed  \n",
       "2          Employed  \n",
       "3          Employed  \n",
       "4          Employed  "
      ]
     },
     "execution_count": 14,
     "metadata": {},
     "output_type": "execute_result"
    }
   ],
   "source": [
    "df_clean.head()"
   ]
  },
  {
   "cell_type": "code",
   "execution_count": 15,
   "id": "5b80b81b",
   "metadata": {},
   "outputs": [
    {
     "data": {
      "text/plain": [
       "<Axes: >"
      ]
     },
     "execution_count": 15,
     "metadata": {},
     "output_type": "execute_result"
    },
    {
     "data": {
      "image/png": "[encoded data removed]",
      "text/plain": [
       "<Figure size 800x800 with 2 Axes>"
      ]
     },
     "metadata": {},
     "output_type": "display_data"
    }
   ],
   "source": [
    "corr = df_clean.corr(numeric_only = True)\n",
    "plt.figure(figsize = (8,8))\n",
    "sns.heatmap(corr, cmap = 'coolwarm', annot = True)"
   ]
  },
  {
   "cell_type": "markdown",
   "id": "922f9acf",
   "metadata": {},
   "source": [
    "The high correlations are between median income and poverty percent, and percent married and poverty percent. Since we need both median income and poverty percent for this assignment we will not drop them. To reduce multicolinearity, we will drop PercentMarried."
   ]
  },
  {
   "cell_type": "code",
   "execution_count": 16,
   "id": "911aabc5",
   "metadata": {},
   "outputs": [],
   "source": [
    "df_clean = df_clean.drop(columns = [\"PercentMarried\"])"
   ]
  },
  {
   "cell_type": "markdown",
   "id": "056f63a1",
   "metadata": {},
   "source": [
    "## Model Development"
   ]
  },
  {
   "cell_type": "markdown",
   "id": "f48accbd",
   "metadata": {},
   "source": [
    "### 80-20  Train - Test Split "
   ]
  },
  {
   "cell_type": "code",
   "execution_count": 17,
   "id": "a59f08c6",
   "metadata": {},
   "outputs": [],
   "source": [
    "# create X and y\n",
    "X = df_clean.drop(columns = ['TARGET_deathRate'])\n",
    "y = df_clean['TARGET_deathRate']\n",
    "\n",
    "# one-hot encode categorical columns (dummies)\n",
    "cat_cols = ['Edu18_24_MaxCat', 'Edu25_Over_MaxCat', 'Race_MaxCat', 'HealthCoverage_MaxCat', 'Employment_MaxCat']\n",
    "X = pd.get_dummies(X, columns = cat_cols, drop_first = True)\n",
    "\n",
    "# split the data\n",
    "X_train, X_test, y_train, y_test = train_test_split(X, y, test_size = 0.2, random_state = 7)"
   ]
  },
  {
   "cell_type": "markdown",
   "id": "b7ace071",
   "metadata": {},
   "source": [
    "### Train & Evaluate Initial XGBoost Model"
   ]
  },
  {
   "cell_type": "code",
   "execution_count": 18,
   "id": "70ea97c5",
   "metadata": {},
   "outputs": [
    {
     "name": "stdout",
     "output_type": "stream",
     "text": [
      "Original Test RMSE: 448.2672\n"
     ]
    }
   ],
   "source": [
    "# Train XGBoost\n",
    "model = XGBRegressor(random_state = 7, n_jobs = -1)\n",
    "model.fit(X_train, y_train)\n",
    "\n",
    "# evaluate\n",
    "y_pred = model.predict(X_test)\n",
    "rmse = mean_squared_error(y_test, y_pred)\n",
    "print(f\"Original Test RMSE: {rmse:.4f}\")"
   ]
  },
  {
   "cell_type": "markdown",
   "id": "b5ef78a3",
   "metadata": {},
   "source": [
    "### Update Test Sets "
   ]
  },
  {
   "cell_type": "code",
   "execution_count": null,
   "id": "5a8e955b",
   "metadata": {},
   "outputs": [],
   "source": [
    "X_test_med = X_test.copy()\n",
    "X_test_pov = X_test.copy()\n",
    "X_test_size = X_test.copy()\n",
    "\n",
    "# A: decrease medIncome by 40,000\n",
    "X_test_med[\"medIncome\"] = X_test[\"medIncome\"] - 40000\n",
    "\n",
    "# A & B: A + increase povertyPercent by 20\n",
    "X_test_pov[\"medIncome\"] = X_test[\"medIncome\"] - 40000\n",
    "X_test_pov[\"povertyPercent\"] = X_test[\"povertyPercent\"] + 20\n",
    "\n",
    "# A & B & C: A + B + increase AvgHouseholdSize by 2\n",
    "X_test_size[\"medIncome\"] = X_test[\"medIncome\"] - 40000\n",
    "X_test_size[\"povertyPercent\"] = X_test[\"povertyPercent\"] + 20\n",
    "X_test_size[\"AvgHouseholdSize\"] = X_test[\"AvgHouseholdSize\"] + 2"
   ]
  },
  {
   "cell_type": "markdown",
   "id": "0ffdd614",
   "metadata": {},
   "source": [
    "### Evaluate XGBoost Model on New Test Sets "
   ]
  },
  {
   "cell_type": "code",
   "execution_count": 21,
   "id": "670b8faa",
   "metadata": {},
   "outputs": [
    {
     "name": "stdout",
     "output_type": "stream",
     "text": [
      "Median Income Change Test RMSE: 720.2507\n",
      "Median Income + Poverty Percent Change Test RMSE: 1392.2992\n",
      "Median Income + Poverty Percent + Household Size Change Test RMSE: 958.3236\n"
     ]
    }
   ],
   "source": [
    "def evaluate_tests(model, X_test, y_true):\n",
    "    y_pred = model.predict(X_test)\n",
    "    rmse = mean_squared_error(y_true, y_pred)\n",
    "    return (y_pred, rmse)\n",
    "\n",
    "\n",
    "med_preds, med_rmse = evaluate_tests(model, X_test_med, y_test)\n",
    "pov_preds, pov_rmse = evaluate_tests(model, X_test_pov, y_test)\n",
    "size_preds, size_rmse = evaluate_tests(model, X_test_size, y_test)\n",
    "\n",
    "print(f\"Median Income Change Test RMSE: {med_rmse:.4f}\")\n",
    "print(f\"Median Income + Poverty Percent Change Test RMSE: {pov_rmse:.4f}\")\n",
    "print(f\"Median Income + Poverty Percent + Household Size Change Test RMSE: {size_rmse:.4f}\")"
   ]
  },
  {
   "cell_type": "markdown",
   "id": "6bfafcfa",
   "metadata": {},
   "source": [
    "## Model Monitoring with Evidently "
   ]
  },
  {
   "cell_type": "markdown",
   "id": "596302ff",
   "metadata": {},
   "source": [
    "### Connect to Evidently & Setup Project "
   ]
  },
  {
   "cell_type": "code",
   "execution_count": 22,
   "id": "362a158b",
   "metadata": {},
   "outputs": [],
   "source": [
    "load_dotenv()\n",
    "api_token = os.getenv(\"evidently_api_token\")\n",
    "org_id_token = os.getenv(\"evidently_org_id\")\n",
    "\n",
    "# connect to cloud\n",
    "ws = CloudWorkspace(token = api_token, url=\"https://app.evidently.cloud\")"
   ]
  },
  {
   "cell_type": "code",
   "execution_count": 23,
   "id": "eb3ffb37",
   "metadata": {},
   "outputs": [],
   "source": [
    "project = ws.create_project(\"MLOps: Predicting Cancer Death Rate\", org_id = org_id_token)"
   ]
  },
  {
   "cell_type": "markdown",
   "id": "f049d8a1",
   "metadata": {},
   "source": [
    "### Create Dashboards"
   ]
  },
  {
   "cell_type": "code",
   "execution_count": 24,
   "id": "fbbc5c1f",
   "metadata": {},
   "outputs": [],
   "source": [
    "# define schema \n",
    "numerical_columns = X.select_dtypes(include=['float64', 'int64']).columns.tolist()\n",
    "categorical_columns = X.select_dtypes(include=['bool', 'uint8']).columns.tolist()\n",
    "\n",
    "schema = DataDefinition(\n",
    "    numerical_columns = numerical_columns,\n",
    "    categorical_columns = categorical_columns\n",
    ")\n",
    "ref_dataset = Dataset.from_pandas(X_test, data_definition = schema)\n",
    "prod_dataset_med = Dataset.from_pandas(X_test_med, data_definition = schema)\n",
    "prod_dataset_pov = Dataset.from_pandas(X_test_pov, data_definition = schema)\n",
    "prod_dataset_size = Dataset.from_pandas(X_test_size, data_definition = schema)"
   ]
  },
  {
   "cell_type": "code",
   "execution_count": 25,
   "id": "54bbce32",
   "metadata": {},
   "outputs": [],
   "source": [
    "# create and run the data drift reports \n",
    "report_med = Report([DataDriftPreset()])\n",
    "snapshot_med = report_med.run(prod_dataset_med, ref_dataset)\n",
    "snapshot_med.save_html(\"report_med.html\")\n",
    "\n",
    "report_pov = Report([DataDriftPreset()])\n",
    "snapshot_pov = report_pov.run(prod_dataset_pov, ref_dataset)\n",
    "snapshot_pov.save_html(\"report_pov.html\")\n",
    "\n",
    "report_size = Report([DataDriftPreset()])\n",
    "snapshot_size = report_size.run(prod_dataset_size, ref_dataset)\n",
    "snapshot_size.save_html(\"report_size.html\")"
   ]
  },
  {
   "cell_type": "code",
   "execution_count": 26,
   "id": "6b7c25d5",
   "metadata": {},
   "outputs": [
    {
     "data": {
      "text/html": [
       "\n",
       "<style>\n",
       ".evidently-links.container {\n",
       "    padding: 10px;\n",
       "    font-family:\n",
       "        -apple-system,\n",
       "        BlinkMacSystemFont,\n",
       "        Segoe UI,\n",
       "        Roboto,\n",
       "        Oxygen,\n",
       "        Ubuntu,\n",
       "        Cantarell,\n",
       "        Fira Sans,\n",
       "        Droid Sans,\n",
       "        Helvetica Neue,\n",
       "        sans-serif;\n",
       "    -webkit-font-smoothing: antialiased;\n",
       "    -moz-osx-font-smoothing: grayscale;\n",
       "\n",
       "    display: flex;\n",
       "    align-items: flex-start;\n",
       "    flex-direction: column;\n",
       "    gap: 10px;\n",
       "}\n",
       "\n",
       ".evidently-links.container > p {\n",
       "    margin: 0;\n",
       "    font-size: 0.85rem;\n",
       "}\n",
       "\n",
       ".evidently-links.container > a {\n",
       "    font-size: 1rem;\n",
       "    font-weight: bold;\n",
       "    padding: 10px 15px;\n",
       "    border-radius: 5px;\n",
       "    background-color: #202830;\n",
       "    color: #fff;\n",
       "    border: 0;\n",
       "    text-decoration: none;\n",
       "    cursor: pointer;\n",
       "    transition: all 0.2s;\n",
       "}\n",
       "\n",
       ".evidently-links.container > a:hover {\n",
       "    background-color: #455565;\n",
       "    color: #fff;\n",
       "}\n",
       "</style>\n",
       "\n",
       "<div class=\"evidently-links container\">\n",
       "    <a target=\"_blank\" href=\"https://app.evidently.cloud/v2/projects/01988660-f8fc-711c-a99b-c908ee09d803/explore/01988661-4304-7e8f-ac49-aa823443dd73\">View report</a>\n",
       "    <p>\n",
       "        <b>Report ID:</b> <span>01988661-4304-7e8f-ac49-aa823443dd73</span>\n",
       "    </p>\n",
       "</div>\n"
      ],
      "text/plain": [
       "Report ID: 01988661-4304-7e8f-ac49-aa823443dd73\n",
       "Link: https://app.evidently.cloud/v2/projects/01988660-f8fc-711c-a99b-c908ee09d803/explore/01988661-4304-7e8f-ac49-aa823443dd73"
      ]
     },
     "execution_count": 26,
     "metadata": {},
     "output_type": "execute_result"
    }
   ],
   "source": [
    "# upload snapshots to evidently \n",
    "ws.add_run(project.id, snapshot_med, include_data = False)\n",
    "ws.add_run(project.id, snapshot_pov, include_data = False)\n",
    "ws.add_run(project.id, snapshot_size, include_data = False)"
   ]
  }
 ],
 "metadata": {
  "kernelspec": {
   "display_name": "Python 3",
   "language": "python",
   "name": "python3"
  },
  "language_info": {
   "codemirror_mode": {
    "name": "ipython",
    "version": 3
   },
   "file_extension": ".py",
   "mimetype": "text/x-python",
   "name": "python",
   "nbconvert_exporter": "python",
   "pygments_lexer": "ipython3",
   "version": "3.11.2"
  }
 },
 "nbformat": 4,
 "nbformat_minor": 5
}
